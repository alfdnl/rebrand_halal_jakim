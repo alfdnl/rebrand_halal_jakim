{
 "cells": [
  {
   "cell_type": "code",
   "execution_count": 48,
   "id": "387a892d",
   "metadata": {},
   "outputs": [],
   "source": [
    "def test_deco(func):\n",
    "    # Decorator wrapper function to connect to db\n",
    "    def wrapper(arg1, arg2, *args, **kwargs):\n",
    "        print(\"Inside Wrapper\")\n",
    "        print(\"arg1: \", arg1)\n",
    "        print(\"arg2: \", arg2)\n",
    "        print(\"args: \", args)\n",
    "        print(\"kwargs: \",kwargs)\n",
    "        return func(arg1, arg2, *args, **kwargs)\n",
    "    return wrapper"
   ]
  },
  {
   "cell_type": "code",
   "execution_count": 61,
   "id": "f7176391",
   "metadata": {},
   "outputs": [],
   "source": [
    "class test_class:\n",
    "    \n",
    "    @test_deco\n",
    "    def test_method(self, arg1, arg2, *args, **kwargs):\n",
    "        print(\"Inside method\")\n",
    "        print(\"arg1: \", arg1)\n",
    "        print(\"arg2: \", arg2)\n",
    "        print(\"args: \", *args)\n",
    "        print(\"kwargs: \", kwargs)\n",
    "        print(*args[0])\n",
    "        return kwargs"
   ]
  },
  {
   "cell_type": "code",
   "execution_count": 62,
   "id": "24574f5e",
   "metadata": {},
   "outputs": [],
   "source": [
    "tc = test_class()"
   ]
  },
  {
   "cell_type": "code",
   "execution_count": 72,
   "id": "0414e070",
   "metadata": {},
   "outputs": [
    {
     "name": "stdout",
     "output_type": "stream",
     "text": [
      "Inside Wrapper\n",
      "arg1:  <__main__.test_class object at 0x10b760cd0>\n",
      "arg2:  ab\n",
      "args:  ('cd', [{'ab': 'as'}], [{'ab': 'as'}])\n",
      "kwargs:  {'kwargs': {'asd': 'asd', 'test': 'power'}}\n",
      "Inside method\n",
      "arg1:  ab\n",
      "arg2:  cd\n",
      "args:  [{'ab': 'as'}] [{'ab': 'as'}]\n",
      "kwargs:  {'kwargs': {'asd': 'asd', 'test': 'power'}}\n",
      "{'ab': 'as'}\n"
     ]
    }
   ],
   "source": [
    "a = tc.test_method(\"ab\", \"cd\",[{\"ab\":\"as\"}],[{\"ab\":\"as\"}] ,kwargs = {\"asd\":\"asd\",\"test\":\"power\"})"
   ]
  },
  {
   "cell_type": "code",
   "execution_count": 73,
   "id": "392cf5e6",
   "metadata": {},
   "outputs": [
    {
     "data": {
      "text/plain": [
       "{'asd': 'asd', 'test': 'power'}"
      ]
     },
     "execution_count": 73,
     "metadata": {},
     "output_type": "execute_result"
    }
   ],
   "source": [
    "a[\"kwargs\"]"
   ]
  },
  {
   "cell_type": "code",
   "execution_count": 70,
   "id": "033c7409",
   "metadata": {},
   "outputs": [],
   "source": [
    "def test (*args):\n",
    "    print(*args)\n",
    "    print(args[0])"
   ]
  },
  {
   "cell_type": "code",
   "execution_count": 71,
   "id": "688e0b4f",
   "metadata": {},
   "outputs": [
    {
     "name": "stdout",
     "output_type": "stream",
     "text": [
      "a 1 2 3 4\n",
      "a\n"
     ]
    }
   ],
   "source": [
    "test(\"a\",1,2,3,4,)"
   ]
  },
  {
   "cell_type": "code",
   "execution_count": null,
   "id": "3acdce61",
   "metadata": {},
   "outputs": [],
   "source": []
  }
 ],
 "metadata": {
  "kernelspec": {
   "display_name": "Python 3 (ipykernel)",
   "language": "python",
   "name": "python3"
  },
  "language_info": {
   "codemirror_mode": {
    "name": "ipython",
    "version": 3
   },
   "file_extension": ".py",
   "mimetype": "text/x-python",
   "name": "python",
   "nbconvert_exporter": "python",
   "pygments_lexer": "ipython3",
   "version": "3.8.9"
  }
 },
 "nbformat": 4,
 "nbformat_minor": 5
}
