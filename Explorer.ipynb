{
 "cells": [
  {
   "cell_type": "code",
   "execution_count": 1,
   "id": "2c4e0a5e",
   "metadata": {},
   "outputs": [],
   "source": [
    "import requests\n",
    "import pandas as pd\n",
    "import numpy as np\n",
    "from bs4 import BeautifulSoup"
   ]
  },
  {
   "cell_type": "code",
   "execution_count": 2,
   "id": "560e6dac",
   "metadata": {},
   "outputs": [],
   "source": [
    "state_code = \"10\"\n",
    "category_code = \"PE\"\n",
    "page_num = 1\n"
   ]
  },
  {
   "cell_type": "code",
   "execution_count": 3,
   "id": "1760006c",
   "metadata": {},
   "outputs": [],
   "source": [
    "BASE_URL = \"https://www.halal.gov.my/v4\"\n",
    "data_key = \"ZGlyZWN0b3J5L2luZGV4X2RpcmVjdG9yeTs7Ozs\"\n",
    "page_data_page_num = f\"/index.php?data={data_key}=&negeri={state_code}&category={category_code}&page={page_num}&cari=\"\n",
    "url_detail_company = f\"/directory/slm_viewdetail.php?comp_code=COMP-20111108-110841&type=C&ty=CO\" # can get by scraping"
   ]
  },
  {
   "cell_type": "code",
   "execution_count": 4,
   "id": "4b032ce8",
   "metadata": {},
   "outputs": [
    {
     "data": {
      "text/plain": [
       "'https://www.halal.gov.my/v4/index.php?data=ZGlyZWN0b3J5L2luZGV4X2RpcmVjdG9yeTs7Ozs=&negeri=10&category=PE&page=1&cari='"
      ]
     },
     "execution_count": 4,
     "metadata": {},
     "output_type": "execute_result"
    }
   ],
   "source": [
    "BASE_URL + page_data_page_num"
   ]
  },
  {
   "cell_type": "code",
   "execution_count": 7,
   "id": "7b369350",
   "metadata": {},
   "outputs": [],
   "source": [
    "resp = requests.get(\"https://myehalal.halal.gov.my/portal-halal/v1//index.php?data=ZGlyZWN0b3J5L2luZGV4X2RpcmVjdG9yeTs7Ozs=&negeri=01&category=PE&page=1&ty=CO\")\n",
    "soup = BeautifulSoup(resp.content, \"html.parser\")"
   ]
  },
  {
   "cell_type": "markdown",
   "id": "1cb46176",
   "metadata": {},
   "source": [
    "## Find page number"
   ]
  },
  {
   "cell_type": "code",
   "execution_count": 13,
   "id": "cd5a3ecd",
   "metadata": {},
   "outputs": [],
   "source": [
    "def get_last_page(soup):\n",
    "    last_page = int(soup.find(\"table\").find_all(\"a\")[-1].attrs[\"href\"].split(\"=\")[-1])\n",
    "    return last_page"
   ]
  },
  {
   "cell_type": "code",
   "execution_count": 15,
   "id": "720f5105",
   "metadata": {},
   "outputs": [
    {
     "name": "stdout",
     "output_type": "stream",
     "text": [
      "Nothing went wrong\n",
      "The try...except block is finished\n"
     ]
    }
   ],
   "source": [
    "x = 3\n",
    "try:\n",
    "  x > 3\n",
    "except:\n",
    "  print(\"Something went wrong\")\n",
    "else:\n",
    "  print(\"Nothing went wrong\")\n",
    "finally:\n",
    "  print(\"The try...except block is finished\")"
   ]
  },
  {
   "cell_type": "code",
   "execution_count": 10,
   "id": "bad4d285",
   "metadata": {},
   "outputs": [
    {
     "data": {
      "text/plain": [
       "'2'"
      ]
     },
     "execution_count": 10,
     "metadata": {},
     "output_type": "execute_result"
    }
   ],
   "source": [
    "soup.find(\"table\").find_all(\"a\")[-1].text"
   ]
  },
  {
   "cell_type": "markdown",
   "id": "28f2879d",
   "metadata": {},
   "source": [
    "# Find the company details"
   ]
  },
  {
   "cell_type": "markdown",
   "id": "3c3b2424",
   "metadata": {},
   "source": [
    "## Get Company Name, Company Address, Brand, detailed_copmany_link"
   ]
  },
  {
   "cell_type": "code",
   "execution_count": 14,
   "id": "884334c0",
   "metadata": {},
   "outputs": [],
   "source": [
    "def address_to_text(list_address):\n",
    "    adrress_text = \"\".join([str(i).replace(\"<br/>\",\" \") for i in list_address])\n",
    "    return adrress_text"
   ]
  },
  {
   "cell_type": "code",
   "execution_count": 15,
   "id": "f24eabc8",
   "metadata": {},
   "outputs": [],
   "source": [
    "def get_company_overview_info(company):\n",
    "    company_dict = {}\n",
    "    name = company.find(\"span\",{\"class\": \"company-name\"}).text.strip()\n",
    "    address_text = address_to_text(company.find(\"span\",{\"class\": \"company-address\"}).contents)\n",
    "    brand_name = company.find(\"span\",{\"class\":\"company-brand\"}).text.split(\"JENAMA:\")[-1].strip()\n",
    "    halal_status =  company.find(\"i\")\n",
    "    if halal_status != None:\n",
    "        status = halal_status.text.split(\"HALAL :\")[-1].strip()\n",
    "    else:\n",
    "        status = None\n",
    "    detailed_company_link = company.find(\"img\").attrs[\"onclick\"].split('\\'')[1]\n",
    "    company_dict[\"company_name\"] = name\n",
    "    company_dict[\"company_address\"] = address_text\n",
    "    company_dict[\"company_brand\"] = brand_name\n",
    "    company_dict[\"company_halal_status\"] = status\n",
    "    company_dict[\"company_info_url\"] = detailed_company_link\n",
    "    return company_dict"
   ]
  },
  {
   "cell_type": "code",
   "execution_count": 16,
   "id": "5fc31016",
   "metadata": {},
   "outputs": [],
   "source": [
    "def get_all_company_overview_info(li_tag):\n",
    "    all_list = []\n",
    "    for company in li_tag.find_all(\"li\",{\"class\": \"clearfix search-result-data\"}):\n",
    "        all_list.append(get_company_overview_info(company))\n",
    "    return all_list"
   ]
  },
  {
   "cell_type": "code",
   "execution_count": 23,
   "id": "12effb18",
   "metadata": {},
   "outputs": [],
   "source": [
    "a = pd.DataFrame(get_all_company_overview_info(soup))"
   ]
  },
  {
   "cell_type": "code",
   "execution_count": 25,
   "id": "fa91c936",
   "metadata": {},
   "outputs": [
    {
     "data": {
      "text/plain": [
       "array(['directory/slm_viewdetail.php?comp_code=COMP-20210406-174638&type=C&ty=CO',\n",
       "       'directory/slm_viewdetail.php?comp_code=COMP-20050613-180717&type=C&ty=CO',\n",
       "       'directory/slm_viewdetail.php?comp_code=COMP-20150724-200540&type=C&ty=CO',\n",
       "       'directory/slm_viewdetail.php?comp_code=COMP-20200625-111528&type=C&ty=CO',\n",
       "       'directory/slm_viewdetail.php?comp_code=COMP-20191129-130028&type=C&ty=CO',\n",
       "       'directory/slm_viewdetail.php?comp_code=COMP-20090414-130143&type=C&ty=CO',\n",
       "       'directory/slm_viewdetail.php?comp_code=COMP-20050613-153534&type=C&ty=CO',\n",
       "       'directory/slm_viewdetail.php?comp_code=COMP-20150813-220601&type=C&ty=CO',\n",
       "       'directory/slm_viewdetail.php?comp_code=COMP-20160721-141504&type=C&ty=CO',\n",
       "       'directory/slm_viewdetail.php?comp_code=COMP-20210327-162449&type=C&ty=CO',\n",
       "       'directory/slm_viewdetail.php?comp_code=COMP-20141209-114957&type=C&ty=CO',\n",
       "       'directory/slm_viewdetail.php?comp_code=COMP-20180305-161848&type=C&ty=CO',\n",
       "       'directory/slm_viewdetail.php?comp_code=COMP-20060901-163723&type=C&ty=CO',\n",
       "       'directory/slm_viewdetail.php?comp_code=COMP-20120329-171905&type=C&ty=CO',\n",
       "       'directory/slm_viewdetail.php?comp_code=COMP-20200102-142601&type=C&ty=CO',\n",
       "       'directory/slm_viewdetail.php?comp_code=COMP-20101109-081221&type=C&ty=CO',\n",
       "       'directory/slm_viewdetail.php?comp_code=COMP-20210208-083647&type=C&ty=CO',\n",
       "       'directory/slm_viewdetail.php?comp_code=COMP-20050614-110036&type=C&ty=CO',\n",
       "       'directory/slm_viewdetail.php?comp_code=COMP-20100823-120812&type=C&ty=CO',\n",
       "       'directory/slm_viewdetail.php?comp_code=COMP-20080714-112539&type=C&ty=CO'],\n",
       "      dtype=object)"
      ]
     },
     "execution_count": 25,
     "metadata": {},
     "output_type": "execute_result"
    }
   ],
   "source": [
    "a.company_info_url.values"
   ]
  },
  {
   "cell_type": "markdown",
   "id": "d38ee148",
   "metadata": {},
   "source": [
    "### Run whole process until this function\n",
    "Run for selangor and PE only"
   ]
  },
  {
   "cell_type": "code",
   "execution_count": 18,
   "id": "28d79558",
   "metadata": {},
   "outputs": [
    {
     "data": {
      "text/plain": [
       "'https://www.halal.gov.my/v4/index.php?data=ZGlyZWN0b3J5L2luZGV4X2RpcmVjdG9yeTs7Ozs=&negeri=10&category=PE&page=1&cari='"
      ]
     },
     "execution_count": 18,
     "metadata": {},
     "output_type": "execute_result"
    }
   ],
   "source": [
    "BASE_URL + page_data_page_num"
   ]
  },
  {
   "cell_type": "code",
   "execution_count": 19,
   "id": "fd0cd30d",
   "metadata": {},
   "outputs": [
    {
     "ename": "KeyError",
     "evalue": "'href'",
     "output_type": "error",
     "traceback": [
      "\u001b[0;31m---------------------------------------------------------------------------\u001b[0m",
      "\u001b[0;31mKeyError\u001b[0m                                  Traceback (most recent call last)",
      "File \u001b[0;32m<timed exec>:7\u001b[0m, in \u001b[0;36m<module>\u001b[0;34m\u001b[0m\n",
      "Input \u001b[0;32mIn [13]\u001b[0m, in \u001b[0;36mget_last_page\u001b[0;34m(soup)\u001b[0m\n\u001b[1;32m      1\u001b[0m \u001b[38;5;28;01mdef\u001b[39;00m \u001b[38;5;21mget_last_page\u001b[39m(soup):\n\u001b[0;32m----> 2\u001b[0m     last_page \u001b[38;5;241m=\u001b[39m \u001b[38;5;28mint\u001b[39m(\u001b[43msoup\u001b[49m\u001b[38;5;241;43m.\u001b[39;49m\u001b[43mfind\u001b[49m\u001b[43m(\u001b[49m\u001b[38;5;124;43m\"\u001b[39;49m\u001b[38;5;124;43mtable\u001b[39;49m\u001b[38;5;124;43m\"\u001b[39;49m\u001b[43m)\u001b[49m\u001b[38;5;241;43m.\u001b[39;49m\u001b[43mfind_all\u001b[49m\u001b[43m(\u001b[49m\u001b[38;5;124;43m\"\u001b[39;49m\u001b[38;5;124;43ma\u001b[39;49m\u001b[38;5;124;43m\"\u001b[39;49m\u001b[43m)\u001b[49m\u001b[43m[\u001b[49m\u001b[38;5;241;43m-\u001b[39;49m\u001b[38;5;241;43m1\u001b[39;49m\u001b[43m]\u001b[49m\u001b[38;5;241;43m.\u001b[39;49m\u001b[43mattrs\u001b[49m\u001b[43m[\u001b[49m\u001b[38;5;124;43m\"\u001b[39;49m\u001b[38;5;124;43mhref\u001b[39;49m\u001b[38;5;124;43m\"\u001b[39;49m\u001b[43m]\u001b[49m\u001b[38;5;241m.\u001b[39msplit(\u001b[38;5;124m\"\u001b[39m\u001b[38;5;124m=\u001b[39m\u001b[38;5;124m\"\u001b[39m)[\u001b[38;5;241m-\u001b[39m\u001b[38;5;241m1\u001b[39m])\n\u001b[1;32m      3\u001b[0m     \u001b[38;5;28;01mreturn\u001b[39;00m last_page\n",
      "\u001b[0;31mKeyError\u001b[0m: 'href'"
     ]
    }
   ],
   "source": [
    "%%time\n",
    "state_code = \"10\"\n",
    "category_code = \"PE\"\n",
    "page_num = 1\n",
    "page_data_page_num = f\"/index.php?data={data_key}=&negeri={state_code}&category={category_code}&page={page_num}&cari=\"\n",
    "resp = requests.get(BASE_URL + page_data_page_num)\n",
    "soup = BeautifulSoup(resp.content, \"html.parser\")\n",
    "last_page = get_last_page(soup)\n",
    "\n",
    "all_list_data = []\n",
    "for page_num in range(1,last_page+1):\n",
    "    print(page_num)\n",
    "    page_data_page_num = f\"/index.php?data={data_key}=&negeri={state_code}&category={category_code}&page={page_num}&cari=\"\n",
    "    if page_num == 1:\n",
    "        all_list_data.extend(get_all_company_overview_info(soup))\n",
    "    else:\n",
    "        resp = requests.get(BASE_URL + page_data_page_num)\n",
    "        new_soup = BeautifulSoup(resp.content, \"html.parser\")\n",
    "        all_list_data.extend(get_all_company_overview_info(new_soup))"
   ]
  },
  {
   "cell_type": "code",
   "execution_count": 20,
   "id": "f4f65990",
   "metadata": {},
   "outputs": [
    {
     "ename": "NameError",
     "evalue": "name 'all_list_data' is not defined",
     "output_type": "error",
     "traceback": [
      "\u001b[0;31m---------------------------------------------------------------------------\u001b[0m",
      "\u001b[0;31mNameError\u001b[0m                                 Traceback (most recent call last)",
      "Input \u001b[0;32mIn [20]\u001b[0m, in \u001b[0;36m<cell line: 1>\u001b[0;34m()\u001b[0m\n\u001b[0;32m----> 1\u001b[0m pd\u001b[38;5;241m.\u001b[39mDataFrame(\u001b[43mall_list_data\u001b[49m)\n",
      "\u001b[0;31mNameError\u001b[0m: name 'all_list_data' is not defined"
     ]
    }
   ],
   "source": [
    "pd.DataFrame(all_list_data)"
   ]
  },
  {
   "cell_type": "code",
   "execution_count": 331,
   "id": "05b7b908",
   "metadata": {},
   "outputs": [],
   "source": [
    "page_data_page_num = f\"/index.php?data={data_key}=&negeri={state_code}&category={category_code}&page={page_num}&cari=\""
   ]
  },
  {
   "cell_type": "code",
   "execution_count": 26,
   "id": "90ca4cb5",
   "metadata": {},
   "outputs": [],
   "source": [
    "detailed_company_link = \"directory/slm_viewdetail.php?comp_code=COMP-20210406-174638&type=C&ty=CO\""
   ]
  },
  {
   "cell_type": "markdown",
   "id": "7795d31e",
   "metadata": {},
   "source": [
    "## Detailed Company Info"
   ]
  },
  {
   "cell_type": "code",
   "execution_count": 27,
   "id": "fca29152",
   "metadata": {},
   "outputs": [
    {
     "data": {
      "text/plain": [
       "'https://www.halal.gov.my/v4/directory/slm_viewdetail.php?comp_code=COMP-20210406-174638&type=C&ty=CO'"
      ]
     },
     "execution_count": 27,
     "metadata": {},
     "output_type": "execute_result"
    }
   ],
   "source": [
    "BASE_URL+\"/\"+detailed_company_link"
   ]
  },
  {
   "cell_type": "code",
   "execution_count": 28,
   "id": "4b362b5e",
   "metadata": {},
   "outputs": [],
   "source": [
    "resp_dc = requests.get(BASE_URL+\"/\"+detailed_company_link)"
   ]
  },
  {
   "cell_type": "code",
   "execution_count": 29,
   "id": "a1f70aed",
   "metadata": {},
   "outputs": [],
   "source": [
    "soup_dc = BeautifulSoup(resp_dc.content, \"html.parser\")"
   ]
  },
  {
   "cell_type": "code",
   "execution_count": 30,
   "id": "c520c846",
   "metadata": {},
   "outputs": [],
   "source": [
    "company_info = soup_dc.find_all(\"tr\",{\"valign\":\"top\"})[1:]"
   ]
  },
  {
   "cell_type": "code",
   "execution_count": 31,
   "id": "7998f41c",
   "metadata": {},
   "outputs": [],
   "source": [
    "company_info_dict = {}\n",
    "for row in company_info:\n",
    "    key = row.find(\"b\").text.strip().replace(\" :\",\"\")\n",
    "    value = row.find_next(\"td\").find_next(\"td\").text.strip()\n",
    "    company_info_dict[key] = value"
   ]
  },
  {
   "cell_type": "code",
   "execution_count": 32,
   "id": "ef103ab1",
   "metadata": {},
   "outputs": [
    {
     "data": {
      "text/plain": [
       "{'Name': '9 KOPITIAM SDN. BHD.',\n",
       " 'Address': 'No. G-10, Silk Residence,Jalan Sutera, Lebuhraya Silk43200, CherasSelangor',\n",
       " 'State': 'Selangor',\n",
       " 'Phone No': '0145125771',\n",
       " 'Fax No.': '',\n",
       " 'e-mail': '9kopitiam.halal@gmail.com',\n",
       " 'Website': '',\n",
       " 'Reference No.': 'JAKIM.700-2/3/2 069-06/2021',\n",
       " 'Officer': 'Azlina Bt. AhmadSiti Farah Binti Ahmad'}"
      ]
     },
     "execution_count": 32,
     "metadata": {},
     "output_type": "execute_result"
    }
   ],
   "source": [
    "company_info_dict "
   ]
  },
  {
   "cell_type": "code",
   "execution_count": 33,
   "id": "81d8f119",
   "metadata": {},
   "outputs": [],
   "source": [
    "table_data = soup_dc.find_all(\"table\",{\"width\":\"100%\"})[1]"
   ]
  },
  {
   "cell_type": "code",
   "execution_count": 35,
   "id": "e921d0db",
   "metadata": {},
   "outputs": [
    {
     "data": {
      "text/plain": [
       "[{'product': 'A01: NASI LEMAK', 'brand': '', 'expiry_date': '29/02/2024'},\n",
       " {'product': 'A02: NASI PUTIH', 'brand': '', 'expiry_date': '29/02/2024'},\n",
       " {'product': 'A03: CURRY CHICKEN', 'brand': '', 'expiry_date': '29/02/2024'},\n",
       " {'product': 'A04: CURRY POTATOES', 'brand': '', 'expiry_date': '29/02/2024'},\n",
       " {'product': 'A05: RENDANG CHICKEN', 'brand': '', 'expiry_date': '29/02/2024'},\n",
       " {'product': 'A06: POWER 9 CHICKEN', 'brand': '', 'expiry_date': '29/02/2024'},\n",
       " {'product': 'A07: SAMBAL SPECIAL', 'brand': '', 'expiry_date': '29/02/2024'},\n",
       " {'product': 'A08: HOMEMADE KAYA', 'brand': '', 'expiry_date': '29/02/2024'},\n",
       " {'product': 'B01: HAINAN BREAD WITH HOMEMADE KAYA + BUTTER ( TOAST)',\n",
       "  'brand': '',\n",
       "  'expiry_date': '29/02/2024'},\n",
       " {'product': 'B02: HAINAN BREAD WITH HOMEMADE KAYA ( TOAST)',\n",
       "  'brand': '',\n",
       "  'expiry_date': '29/02/2024'},\n",
       " {'product': 'B03: HAINAN BREAD WITH HOMEMADE KAYA + BUTTER ( STEAM)',\n",
       "  'brand': '',\n",
       "  'expiry_date': '29/02/2024'},\n",
       " {'product': 'B04: HAINAN BREAD WITH HOMEMADE KAYA(STEAM)',\n",
       "  'brand': '',\n",
       "  'expiry_date': '29/02/2024'},\n",
       " {'product': 'B05: SOFT BOIL EGG ( 2 PCS)- KAMPUNG EGG',\n",
       "  'brand': '',\n",
       "  'expiry_date': '29/02/2024'},\n",
       " {'product': 'B06: CROISSANT ORIGINAL',\n",
       "  'brand': '',\n",
       "  'expiry_date': '29/02/2024'},\n",
       " {'product': 'B07: CROISSANT WITH HOMEMADE KAYA+BUTTER',\n",
       "  'brand': '',\n",
       "  'expiry_date': '29/02/2024'},\n",
       " {'product': \"B08: '9 BULL' CROISSANT WITH CURRY POTATOES\",\n",
       "  'brand': '',\n",
       "  'expiry_date': '29/02/2024'},\n",
       " {'product': 'B09: CROISSANT MALAYSIA ( WITH SAMBAL) IKAN BILIS,KACANG,TIMUN,TELUR',\n",
       "  'brand': '',\n",
       "  'expiry_date': '29/02/2024'},\n",
       " {'product': 'DC02: AIK CHEONG WHITE COFFEE',\n",
       "  'brand': '',\n",
       "  'expiry_date': '29/02/2024'},\n",
       " {'product': 'DC03: AIK CHEONG COFFEE',\n",
       "  'brand': '',\n",
       "  'expiry_date': '29/02/2024'},\n",
       " {'product': 'DC04: AIK CHEONG COFFEE C',\n",
       "  'brand': '',\n",
       "  'expiry_date': '29/02/2024'},\n",
       " {'product': 'DC05: AIK CHEONG COFFEE O',\n",
       "  'brand': '',\n",
       "  'expiry_date': '29/02/2024'},\n",
       " {'product': 'DC06: SIGNATURE BUTTER TEH',\n",
       "  'brand': '',\n",
       "  'expiry_date': '29/02/2024'},\n",
       " {'product': 'DC07: TEH', 'brand': '', 'expiry_date': '29/02/2024'},\n",
       " {'product': 'DC08: TEH C', 'brand': '', 'expiry_date': '29/02/2024'},\n",
       " {'product': 'DC09: TEH O', 'brand': '', 'expiry_date': '29/02/2024'},\n",
       " {'product': 'DC10: CHAM', 'brand': '', 'expiry_date': '29/02/2024'},\n",
       " {'product': 'DC11: HAINAN TEA', 'brand': '', 'expiry_date': '29/02/2024'},\n",
       " {'product': 'DC12: HOR KAI SAI (KOPI + MILO)',\n",
       "  'brand': '',\n",
       "  'expiry_date': '29/02/2024'},\n",
       " {'product': 'DC13: MILO', 'brand': '', 'expiry_date': '29/02/2024'},\n",
       " {'product': 'DC14: SALTED CHAM', 'brand': '', 'expiry_date': '29/02/2024'},\n",
       " {'product': 'DC15: SALTED TEH', 'brand': '', 'expiry_date': '29/02/2024'},\n",
       " {'product': 'DC16: SALTED COFFEE', 'brand': '', 'expiry_date': '29/02/2024'},\n",
       " {'product': 'DC21: ICE LEMON TEA', 'brand': '', 'expiry_date': '29/02/2024'},\n",
       " {'product': 'DC22: HONEY LEMON', 'brand': '', 'expiry_date': '29/02/2024'},\n",
       " {'product': 'DC26: CHRYSANTENUM TEA',\n",
       "  'brand': '',\n",
       "  'expiry_date': '29/02/2024'},\n",
       " {'product': 'DC27: COKE', 'brand': '', 'expiry_date': '29/02/2024'},\n",
       " {'product': 'DC28: 100 PLUS', 'brand': '', 'expiry_date': '29/02/2024'},\n",
       " {'product': 'DC29: MINERAL WATER', 'brand': '', 'expiry_date': '29/02/2024'},\n",
       " {'product': 'DC30: PLAIN WATER', 'brand': '', 'expiry_date': '29/02/2024'},\n",
       " {'product': 'DC31: ABC ICE KACANG', 'brand': '', 'expiry_date': '29/02/2024'},\n",
       " {'product': 'DC32: CENDOL', 'brand': '', 'expiry_date': '29/02/2024'},\n",
       " {'product': 'DH01: SIGNATURE BUTTER COFFEE 0',\n",
       "  'brand': '',\n",
       "  'expiry_date': '29/02/2024'},\n",
       " {'product': 'DH02 : AIK CHEONG WHITE COFFEE',\n",
       "  'brand': '',\n",
       "  'expiry_date': '29/02/2024'},\n",
       " {'product': 'DH03: AIK CHEONG COFFEE',\n",
       "  'brand': '',\n",
       "  'expiry_date': '29/02/2024'},\n",
       " {'product': 'DH04: AIK CHEONG COFFEE C',\n",
       "  'brand': '',\n",
       "  'expiry_date': '29/02/2024'},\n",
       " {'product': 'DH05: AIK CHEONG COFFEE O',\n",
       "  'brand': '',\n",
       "  'expiry_date': '29/02/2024'},\n",
       " {'product': 'DH06: SIGNATURE BUTTER TEH',\n",
       "  'brand': '',\n",
       "  'expiry_date': '29/02/2024'},\n",
       " {'product': 'DH07: TEH', 'brand': '', 'expiry_date': '29/02/2024'},\n",
       " {'product': 'DH08: TEH C', 'brand': '', 'expiry_date': '29/02/2024'},\n",
       " {'product': 'DH09: TEH O', 'brand': '', 'expiry_date': '29/02/2024'},\n",
       " {'product': 'DH11: HAINAN TEA', 'brand': '', 'expiry_date': '29/02/2024'},\n",
       " {'product': 'DH12: HOR KAI SAI (KOPI + MILO)',\n",
       "  'brand': '',\n",
       "  'expiry_date': '29/02/2024'},\n",
       " {'product': 'DH13: MILO', 'brand': '', 'expiry_date': '29/02/2024'},\n",
       " {'product': 'DH14: SALTED CHAM', 'brand': '', 'expiry_date': '29/02/2024'},\n",
       " {'product': 'DH15: SALTED TEH', 'brand': '', 'expiry_date': '29/02/2024'},\n",
       " {'product': 'DH16: SALTED COFFEE', 'brand': '', 'expiry_date': '29/02/2024'},\n",
       " {'product': 'DH21: ICE LEMON TEA', 'brand': '', 'expiry_date': '29/02/2024'},\n",
       " {'product': 'DH22: HONEY LEMON', 'brand': '', 'expiry_date': '29/02/2024'},\n",
       " {'product': 'DH25: GREEN TEA', 'brand': '', 'expiry_date': '29/02/2024'},\n",
       " {'product': 'DH26: CHRYSANTENUM TEA',\n",
       "  'brand': '',\n",
       "  'expiry_date': '29/02/2024'},\n",
       " {'product': 'DH30: PLAIN WATER', 'brand': '', 'expiry_date': '29/02/2024'},\n",
       " {'product': 'HOMEMADE KAYA', 'brand': '', 'expiry_date': '29/02/2024'},\n",
       " {'product': 'N01: NYONYA CURRY NOODLE',\n",
       "  'brand': '',\n",
       "  'expiry_date': '29/02/2024'},\n",
       " {'product': 'N02: CURRY CHICKEN NOODLE (DRY)',\n",
       "  'brand': '',\n",
       "  'expiry_date': '29/02/2024'},\n",
       " {'product': 'N03: CHICKEN FLOSS FISHBALL NOODLE ( SOUP )',\n",
       "  'brand': '',\n",
       "  'expiry_date': '29/02/2024'},\n",
       " {'product': 'N04: CHICKEN FLOSS FISHBALL NOODLE (DRY)',\n",
       "  'brand': '',\n",
       "  'expiry_date': '29/02/2024'},\n",
       " {'product': 'N05: RICE NOODLE ROLL - (CURRY SAUCE + DRY SHRIMP CHILI)',\n",
       "  'brand': '',\n",
       "  'expiry_date': '29/02/2024'},\n",
       " {'product': 'N06: RICE NOODLE ROLL - SWEET SAUCE',\n",
       "  'brand': '',\n",
       "  'expiry_date': '29/02/2024'},\n",
       " {'product': 'N07: RICE NOODLE ROLE + MIX SAUCE (SWEET SAUCE + CHILI SAUCE + GREEN CHILI)',\n",
       "  'brand': '',\n",
       "  'expiry_date': '29/02/2024'},\n",
       " {'product': 'N08: TOM YAM FRIED MEE HOON (VEGE)',\n",
       "  'brand': '',\n",
       "  'expiry_date': '29/02/2024'},\n",
       " {'product': 'N09: TOM YAM  FRIED MEE HOON  WITH RENDANG CHICKEN',\n",
       "  'brand': '',\n",
       "  'expiry_date': '29/02/2024'},\n",
       " {'product': 'N10: TOM YAM FRIED MEE HON WITH CURRY CHICKEN',\n",
       "  'brand': '',\n",
       "  'expiry_date': '29/02/2024'},\n",
       " {'product': 'N11: TOMYAM FRIED MEE HOON WITH CURRY POTATOES',\n",
       "  'brand': '',\n",
       "  'expiry_date': '29/02/2024'},\n",
       " {'product': 'N12 : TOM YAM FRIED MEE HOON WITH POWER 9 ( CHICKEN SPECIAL SAMBAL)',\n",
       "  'brand': '',\n",
       "  'expiry_date': '29/02/2024'},\n",
       " {'product': 'NA: MEE CELUR', 'brand': '', 'expiry_date': '29/02/2024'},\n",
       " {'product': 'NB: MEE HOON CELUR', 'brand': '', 'expiry_date': '29/02/2024'},\n",
       " {'product': 'NC: KUEY TEOW CELUR', 'brand': '', 'expiry_date': '29/02/2024'},\n",
       " {'product': 'ND: MAGGIE CELUR', 'brand': '', 'expiry_date': '29/02/2024'},\n",
       " {'product': 'R01: NASI LEMAK CLASSIC',\n",
       "  'brand': '',\n",
       "  'expiry_date': '29/02/2024'},\n",
       " {'product': 'R02: NASI LEMAK WITH CURRY POTATOES',\n",
       "  'brand': '',\n",
       "  'expiry_date': '29/02/2024'},\n",
       " {'product': 'R03: NASI LEMAK WITH RENDANG CHICKEN',\n",
       "  'brand': '',\n",
       "  'expiry_date': '29/02/2024'},\n",
       " {'product': 'R04: NASI LEMAK WITH CURRY CHICKEN',\n",
       "  'brand': '',\n",
       "  'expiry_date': '29/02/2024'},\n",
       " {'product': 'R05: NASI LEMAK POWER 9 (CHICKEN SPECIAL SAMBAL)',\n",
       "  'brand': '',\n",
       "  'expiry_date': '29/02/2024'},\n",
       " {'product': 'S01: KUIH-MUIH', 'brand': '', 'expiry_date': '29/02/2024'},\n",
       " {'product': 'S02: CUCUR SAYUR (VEGE)',\n",
       "  'brand': '',\n",
       "  'expiry_date': '29/02/2024'},\n",
       " {'product': 'S03: SALAD VEGETABLE ROLL (VEGE)',\n",
       "  'brand': '',\n",
       "  'expiry_date': '29/02/2024'},\n",
       " {'product': 'S04: FISHBALL SOUP (5PCS)',\n",
       "  'brand': '',\n",
       "  'expiry_date': '29/02/2024'},\n",
       " {'product': 'W01: CLASSIC 9 HAINANESE CHICKEN CHOP',\n",
       "  'brand': '',\n",
       "  'expiry_date': '29/02/2024'},\n",
       " {'product': 'W02: CLASSIC 9 HAINANESE CHICKEN CHOP WITH RICE',\n",
       "  'brand': '',\n",
       "  'expiry_date': '29/02/2024'}]"
      ]
     },
     "execution_count": 35,
     "metadata": {},
     "output_type": "execute_result"
    }
   ],
   "source": [
    "data_list"
   ]
  },
  {
   "cell_type": "code",
   "execution_count": 34,
   "id": "08f1d858",
   "metadata": {},
   "outputs": [
    {
     "name": "stdout",
     "output_type": "stream",
     "text": [
      "A01: NASI LEMAK\n",
      "\n",
      "29/02/2024\n",
      "A02: NASI PUTIH\n",
      "\n",
      "29/02/2024\n",
      "A03: CURRY CHICKEN\n",
      "\n",
      "29/02/2024\n",
      "A04: CURRY POTATOES\n",
      "\n",
      "29/02/2024\n",
      "A05: RENDANG CHICKEN\n",
      "\n",
      "29/02/2024\n",
      "A06: POWER 9 CHICKEN\n",
      "\n",
      "29/02/2024\n",
      "A07: SAMBAL SPECIAL\n",
      "\n",
      "29/02/2024\n",
      "A08: HOMEMADE KAYA\n",
      "\n",
      "29/02/2024\n",
      "B01: HAINAN BREAD WITH HOMEMADE KAYA + BUTTER ( TOAST)\n",
      "\n",
      "29/02/2024\n",
      "B02: HAINAN BREAD WITH HOMEMADE KAYA ( TOAST)\n",
      "\n",
      "29/02/2024\n",
      "B03: HAINAN BREAD WITH HOMEMADE KAYA + BUTTER ( STEAM)\n",
      "\n",
      "29/02/2024\n",
      "B04: HAINAN BREAD WITH HOMEMADE KAYA(STEAM)\n",
      "\n",
      "29/02/2024\n",
      "B05: SOFT BOIL EGG ( 2 PCS)- KAMPUNG EGG\n",
      "\n",
      "29/02/2024\n",
      "B06: CROISSANT ORIGINAL\n",
      "\n",
      "29/02/2024\n",
      "B07: CROISSANT WITH HOMEMADE KAYA+BUTTER\n",
      "\n",
      "29/02/2024\n",
      "B08: '9 BULL' CROISSANT WITH CURRY POTATOES\n",
      "\n",
      "29/02/2024\n",
      "B09: CROISSANT MALAYSIA ( WITH SAMBAL) IKAN BILIS,KACANG,TIMUN,TELUR\n",
      "\n",
      "29/02/2024\n",
      "DC02: AIK CHEONG WHITE COFFEE\n",
      "\n",
      "29/02/2024\n",
      "DC03: AIK CHEONG COFFEE\n",
      "\n",
      "29/02/2024\n",
      "DC04: AIK CHEONG COFFEE C\n",
      "\n",
      "29/02/2024\n",
      "DC05: AIK CHEONG COFFEE O\n",
      "\n",
      "29/02/2024\n",
      "DC06: SIGNATURE BUTTER TEH\n",
      "\n",
      "29/02/2024\n",
      "DC07: TEH\n",
      "\n",
      "29/02/2024\n",
      "DC08: TEH C\n",
      "\n",
      "29/02/2024\n",
      "DC09: TEH O\n",
      "\n",
      "29/02/2024\n",
      "DC10: CHAM\n",
      "\n",
      "29/02/2024\n",
      "DC11: HAINAN TEA\n",
      "\n",
      "29/02/2024\n",
      "DC12: HOR KAI SAI (KOPI + MILO)\n",
      "\n",
      "29/02/2024\n",
      "DC13: MILO\n",
      "\n",
      "29/02/2024\n",
      "DC14: SALTED CHAM\n",
      "\n",
      "29/02/2024\n",
      "DC15: SALTED TEH\n",
      "\n",
      "29/02/2024\n",
      "DC16: SALTED COFFEE\n",
      "\n",
      "29/02/2024\n",
      "DC21: ICE LEMON TEA\n",
      "\n",
      "29/02/2024\n",
      "DC22: HONEY LEMON\n",
      "\n",
      "29/02/2024\n",
      "DC26: CHRYSANTENUM TEA\n",
      "\n",
      "29/02/2024\n",
      "DC27: COKE\n",
      "\n",
      "29/02/2024\n",
      "DC28: 100 PLUS\n",
      "\n",
      "29/02/2024\n",
      "DC29: MINERAL WATER\n",
      "\n",
      "29/02/2024\n",
      "DC30: PLAIN WATER\n",
      "\n",
      "29/02/2024\n",
      "DC31: ABC ICE KACANG\n",
      "\n",
      "29/02/2024\n",
      "DC32: CENDOL\n",
      "\n",
      "29/02/2024\n",
      "DH01: SIGNATURE BUTTER COFFEE 0\n",
      "\n",
      "29/02/2024\n",
      "DH02 : AIK CHEONG WHITE COFFEE\n",
      "\n",
      "29/02/2024\n",
      "DH03: AIK CHEONG COFFEE\n",
      "\n",
      "29/02/2024\n",
      "DH04: AIK CHEONG COFFEE C\n",
      "\n",
      "29/02/2024\n",
      "DH05: AIK CHEONG COFFEE O\n",
      "\n",
      "29/02/2024\n",
      "DH06: SIGNATURE BUTTER TEH\n",
      "\n",
      "29/02/2024\n",
      "DH07: TEH\n",
      "\n",
      "29/02/2024\n",
      "DH08: TEH C\n",
      "\n",
      "29/02/2024\n",
      "DH09: TEH O\n",
      "\n",
      "29/02/2024\n",
      "DH11: HAINAN TEA\n",
      "\n",
      "29/02/2024\n",
      "DH12: HOR KAI SAI (KOPI + MILO)\n",
      "\n",
      "29/02/2024\n",
      "DH13: MILO\n",
      "\n",
      "29/02/2024\n",
      "DH14: SALTED CHAM\n",
      "\n",
      "29/02/2024\n",
      "DH15: SALTED TEH\n",
      "\n",
      "29/02/2024\n",
      "DH16: SALTED COFFEE\n",
      "\n",
      "29/02/2024\n",
      "DH21: ICE LEMON TEA\n",
      "\n",
      "29/02/2024\n",
      "DH22: HONEY LEMON\n",
      "\n",
      "29/02/2024\n",
      "DH25: GREEN TEA\n",
      "\n",
      "29/02/2024\n",
      "DH26: CHRYSANTENUM TEA\n",
      "\n",
      "29/02/2024\n",
      "DH30: PLAIN WATER\n",
      "\n",
      "29/02/2024\n",
      "HOMEMADE KAYA\n",
      "\n",
      "29/02/2024\n",
      "N01: NYONYA CURRY NOODLE\n",
      "\n",
      "29/02/2024\n",
      "N02: CURRY CHICKEN NOODLE (DRY)\n",
      "\n",
      "29/02/2024\n",
      "N03: CHICKEN FLOSS FISHBALL NOODLE ( SOUP )\n",
      "\n",
      "29/02/2024\n",
      "N04: CHICKEN FLOSS FISHBALL NOODLE (DRY)\n",
      "\n",
      "29/02/2024\n",
      "N05: RICE NOODLE ROLL - (CURRY SAUCE + DRY SHRIMP CHILI)\n",
      "\n",
      "29/02/2024\n",
      "N06: RICE NOODLE ROLL - SWEET SAUCE\n",
      "\n",
      "29/02/2024\n",
      "N07: RICE NOODLE ROLE + MIX SAUCE (SWEET SAUCE + CHILI SAUCE + GREEN CHILI)\n",
      "\n",
      "29/02/2024\n",
      "N08: TOM YAM FRIED MEE HOON (VEGE)\n",
      "\n",
      "29/02/2024\n",
      "N09: TOM YAM  FRIED MEE HOON  WITH RENDANG CHICKEN\n",
      "\n",
      "29/02/2024\n",
      "N10: TOM YAM FRIED MEE HON WITH CURRY CHICKEN\n",
      "\n",
      "29/02/2024\n",
      "N11: TOMYAM FRIED MEE HOON WITH CURRY POTATOES\n",
      "\n",
      "29/02/2024\n",
      "N12 : TOM YAM FRIED MEE HOON WITH POWER 9 ( CHICKEN SPECIAL SAMBAL)\n",
      "\n",
      "29/02/2024\n",
      "NA: MEE CELUR\n",
      "\n",
      "29/02/2024\n",
      "NB: MEE HOON CELUR\n",
      "\n",
      "29/02/2024\n",
      "NC: KUEY TEOW CELUR\n",
      "\n",
      "29/02/2024\n",
      "ND: MAGGIE CELUR\n",
      "\n",
      "29/02/2024\n",
      "R01: NASI LEMAK CLASSIC\n",
      "\n",
      "29/02/2024\n",
      "R02: NASI LEMAK WITH CURRY POTATOES\n",
      "\n",
      "29/02/2024\n",
      "R03: NASI LEMAK WITH RENDANG CHICKEN\n",
      "\n",
      "29/02/2024\n",
      "R04: NASI LEMAK WITH CURRY CHICKEN\n",
      "\n",
      "29/02/2024\n",
      "R05: NASI LEMAK POWER 9 (CHICKEN SPECIAL SAMBAL)\n",
      "\n",
      "29/02/2024\n",
      "S01: KUIH-MUIH\n",
      "\n",
      "29/02/2024\n",
      "S02: CUCUR SAYUR (VEGE)\n",
      "\n",
      "29/02/2024\n",
      "S03: SALAD VEGETABLE ROLL (VEGE)\n",
      "\n",
      "29/02/2024\n",
      "S04: FISHBALL SOUP (5PCS)\n",
      "\n",
      "29/02/2024\n",
      "W01: CLASSIC 9 HAINANESE CHICKEN CHOP\n",
      "\n",
      "29/02/2024\n",
      "W02: CLASSIC 9 HAINANESE CHICKEN CHOP WITH RICE\n",
      "\n",
      "29/02/2024\n"
     ]
    }
   ],
   "source": [
    "data_list = []\n",
    "for data_row in table_data.find_all(\"tr\")[2:]:\n",
    "    data = data_row.find_all(\"td\")\n",
    "    data_dict = {}\n",
    "    data_dict[\"product\"] = data[1].text.strip()\n",
    "    data_dict[\"brand\"] = data[2].text.strip()\n",
    "    data_dict[\"expiry_date\"] = data[3].text.strip()\n",
    "    data_list.append(data_dict)\n",
    "    print(data[1].text.strip())\n",
    "    print(data[2].text.strip())\n",
    "    print(data[3].text.strip())"
   ]
  },
  {
   "cell_type": "code",
   "execution_count": 182,
   "id": "46a4538a",
   "metadata": {},
   "outputs": [],
   "source": [
    "company_info_dict[\"product_list\"] = data_list"
   ]
  },
  {
   "cell_type": "code",
   "execution_count": 36,
   "id": "76c7c8c4",
   "metadata": {},
   "outputs": [
    {
     "data": {
      "text/plain": [
       "{'Name': '9 KOPITIAM SDN. BHD.',\n",
       " 'Address': 'No. G-10, Silk Residence,Jalan Sutera, Lebuhraya Silk43200, CherasSelangor',\n",
       " 'State': 'Selangor',\n",
       " 'Phone No': '0145125771',\n",
       " 'Fax No.': '',\n",
       " 'e-mail': '9kopitiam.halal@gmail.com',\n",
       " 'Website': '',\n",
       " 'Reference No.': 'JAKIM.700-2/3/2 069-06/2021',\n",
       " 'Officer': 'Azlina Bt. AhmadSiti Farah Binti Ahmad'}"
      ]
     },
     "execution_count": 36,
     "metadata": {},
     "output_type": "execute_result"
    }
   ],
   "source": [
    "company_info_dict"
   ]
  },
  {
   "cell_type": "code",
   "execution_count": 39,
   "id": "17ecc3a1",
   "metadata": {},
   "outputs": [
    {
     "data": {
      "text/plain": [
       "[{'product': 'A01: NASI LEMAK', 'brand': '', 'expiry_date': '29/02/2024'},\n",
       " {'product': 'A02: NASI PUTIH', 'brand': '', 'expiry_date': '29/02/2024'},\n",
       " {'product': 'A03: CURRY CHICKEN', 'brand': '', 'expiry_date': '29/02/2024'},\n",
       " {'product': 'A04: CURRY POTATOES', 'brand': '', 'expiry_date': '29/02/2024'},\n",
       " {'product': 'A05: RENDANG CHICKEN', 'brand': '', 'expiry_date': '29/02/2024'},\n",
       " {'product': 'A06: POWER 9 CHICKEN', 'brand': '', 'expiry_date': '29/02/2024'},\n",
       " {'product': 'A07: SAMBAL SPECIAL', 'brand': '', 'expiry_date': '29/02/2024'},\n",
       " {'product': 'A08: HOMEMADE KAYA', 'brand': '', 'expiry_date': '29/02/2024'},\n",
       " {'product': 'B01: HAINAN BREAD WITH HOMEMADE KAYA + BUTTER ( TOAST)',\n",
       "  'brand': '',\n",
       "  'expiry_date': '29/02/2024'},\n",
       " {'product': 'B02: HAINAN BREAD WITH HOMEMADE KAYA ( TOAST)',\n",
       "  'brand': '',\n",
       "  'expiry_date': '29/02/2024'},\n",
       " {'product': 'B03: HAINAN BREAD WITH HOMEMADE KAYA + BUTTER ( STEAM)',\n",
       "  'brand': '',\n",
       "  'expiry_date': '29/02/2024'},\n",
       " {'product': 'B04: HAINAN BREAD WITH HOMEMADE KAYA(STEAM)',\n",
       "  'brand': '',\n",
       "  'expiry_date': '29/02/2024'},\n",
       " {'product': 'B05: SOFT BOIL EGG ( 2 PCS)- KAMPUNG EGG',\n",
       "  'brand': '',\n",
       "  'expiry_date': '29/02/2024'},\n",
       " {'product': 'B06: CROISSANT ORIGINAL',\n",
       "  'brand': '',\n",
       "  'expiry_date': '29/02/2024'},\n",
       " {'product': 'B07: CROISSANT WITH HOMEMADE KAYA+BUTTER',\n",
       "  'brand': '',\n",
       "  'expiry_date': '29/02/2024'},\n",
       " {'product': \"B08: '9 BULL' CROISSANT WITH CURRY POTATOES\",\n",
       "  'brand': '',\n",
       "  'expiry_date': '29/02/2024'},\n",
       " {'product': 'B09: CROISSANT MALAYSIA ( WITH SAMBAL) IKAN BILIS,KACANG,TIMUN,TELUR',\n",
       "  'brand': '',\n",
       "  'expiry_date': '29/02/2024'},\n",
       " {'product': 'DC02: AIK CHEONG WHITE COFFEE',\n",
       "  'brand': '',\n",
       "  'expiry_date': '29/02/2024'},\n",
       " {'product': 'DC03: AIK CHEONG COFFEE',\n",
       "  'brand': '',\n",
       "  'expiry_date': '29/02/2024'},\n",
       " {'product': 'DC04: AIK CHEONG COFFEE C',\n",
       "  'brand': '',\n",
       "  'expiry_date': '29/02/2024'},\n",
       " {'product': 'DC05: AIK CHEONG COFFEE O',\n",
       "  'brand': '',\n",
       "  'expiry_date': '29/02/2024'},\n",
       " {'product': 'DC06: SIGNATURE BUTTER TEH',\n",
       "  'brand': '',\n",
       "  'expiry_date': '29/02/2024'},\n",
       " {'product': 'DC07: TEH', 'brand': '', 'expiry_date': '29/02/2024'},\n",
       " {'product': 'DC08: TEH C', 'brand': '', 'expiry_date': '29/02/2024'},\n",
       " {'product': 'DC09: TEH O', 'brand': '', 'expiry_date': '29/02/2024'},\n",
       " {'product': 'DC10: CHAM', 'brand': '', 'expiry_date': '29/02/2024'},\n",
       " {'product': 'DC11: HAINAN TEA', 'brand': '', 'expiry_date': '29/02/2024'},\n",
       " {'product': 'DC12: HOR KAI SAI (KOPI + MILO)',\n",
       "  'brand': '',\n",
       "  'expiry_date': '29/02/2024'},\n",
       " {'product': 'DC13: MILO', 'brand': '', 'expiry_date': '29/02/2024'},\n",
       " {'product': 'DC14: SALTED CHAM', 'brand': '', 'expiry_date': '29/02/2024'},\n",
       " {'product': 'DC15: SALTED TEH', 'brand': '', 'expiry_date': '29/02/2024'},\n",
       " {'product': 'DC16: SALTED COFFEE', 'brand': '', 'expiry_date': '29/02/2024'},\n",
       " {'product': 'DC21: ICE LEMON TEA', 'brand': '', 'expiry_date': '29/02/2024'},\n",
       " {'product': 'DC22: HONEY LEMON', 'brand': '', 'expiry_date': '29/02/2024'},\n",
       " {'product': 'DC26: CHRYSANTENUM TEA',\n",
       "  'brand': '',\n",
       "  'expiry_date': '29/02/2024'},\n",
       " {'product': 'DC27: COKE', 'brand': '', 'expiry_date': '29/02/2024'},\n",
       " {'product': 'DC28: 100 PLUS', 'brand': '', 'expiry_date': '29/02/2024'},\n",
       " {'product': 'DC29: MINERAL WATER', 'brand': '', 'expiry_date': '29/02/2024'},\n",
       " {'product': 'DC30: PLAIN WATER', 'brand': '', 'expiry_date': '29/02/2024'},\n",
       " {'product': 'DC31: ABC ICE KACANG', 'brand': '', 'expiry_date': '29/02/2024'},\n",
       " {'product': 'DC32: CENDOL', 'brand': '', 'expiry_date': '29/02/2024'},\n",
       " {'product': 'DH01: SIGNATURE BUTTER COFFEE 0',\n",
       "  'brand': '',\n",
       "  'expiry_date': '29/02/2024'},\n",
       " {'product': 'DH02 : AIK CHEONG WHITE COFFEE',\n",
       "  'brand': '',\n",
       "  'expiry_date': '29/02/2024'},\n",
       " {'product': 'DH03: AIK CHEONG COFFEE',\n",
       "  'brand': '',\n",
       "  'expiry_date': '29/02/2024'},\n",
       " {'product': 'DH04: AIK CHEONG COFFEE C',\n",
       "  'brand': '',\n",
       "  'expiry_date': '29/02/2024'},\n",
       " {'product': 'DH05: AIK CHEONG COFFEE O',\n",
       "  'brand': '',\n",
       "  'expiry_date': '29/02/2024'},\n",
       " {'product': 'DH06: SIGNATURE BUTTER TEH',\n",
       "  'brand': '',\n",
       "  'expiry_date': '29/02/2024'},\n",
       " {'product': 'DH07: TEH', 'brand': '', 'expiry_date': '29/02/2024'},\n",
       " {'product': 'DH08: TEH C', 'brand': '', 'expiry_date': '29/02/2024'},\n",
       " {'product': 'DH09: TEH O', 'brand': '', 'expiry_date': '29/02/2024'},\n",
       " {'product': 'DH11: HAINAN TEA', 'brand': '', 'expiry_date': '29/02/2024'},\n",
       " {'product': 'DH12: HOR KAI SAI (KOPI + MILO)',\n",
       "  'brand': '',\n",
       "  'expiry_date': '29/02/2024'},\n",
       " {'product': 'DH13: MILO', 'brand': '', 'expiry_date': '29/02/2024'},\n",
       " {'product': 'DH14: SALTED CHAM', 'brand': '', 'expiry_date': '29/02/2024'},\n",
       " {'product': 'DH15: SALTED TEH', 'brand': '', 'expiry_date': '29/02/2024'},\n",
       " {'product': 'DH16: SALTED COFFEE', 'brand': '', 'expiry_date': '29/02/2024'},\n",
       " {'product': 'DH21: ICE LEMON TEA', 'brand': '', 'expiry_date': '29/02/2024'},\n",
       " {'product': 'DH22: HONEY LEMON', 'brand': '', 'expiry_date': '29/02/2024'},\n",
       " {'product': 'DH25: GREEN TEA', 'brand': '', 'expiry_date': '29/02/2024'},\n",
       " {'product': 'DH26: CHRYSANTENUM TEA',\n",
       "  'brand': '',\n",
       "  'expiry_date': '29/02/2024'},\n",
       " {'product': 'DH30: PLAIN WATER', 'brand': '', 'expiry_date': '29/02/2024'},\n",
       " {'product': 'HOMEMADE KAYA', 'brand': '', 'expiry_date': '29/02/2024'},\n",
       " {'product': 'N01: NYONYA CURRY NOODLE',\n",
       "  'brand': '',\n",
       "  'expiry_date': '29/02/2024'},\n",
       " {'product': 'N02: CURRY CHICKEN NOODLE (DRY)',\n",
       "  'brand': '',\n",
       "  'expiry_date': '29/02/2024'},\n",
       " {'product': 'N03: CHICKEN FLOSS FISHBALL NOODLE ( SOUP )',\n",
       "  'brand': '',\n",
       "  'expiry_date': '29/02/2024'},\n",
       " {'product': 'N04: CHICKEN FLOSS FISHBALL NOODLE (DRY)',\n",
       "  'brand': '',\n",
       "  'expiry_date': '29/02/2024'},\n",
       " {'product': 'N05: RICE NOODLE ROLL - (CURRY SAUCE + DRY SHRIMP CHILI)',\n",
       "  'brand': '',\n",
       "  'expiry_date': '29/02/2024'},\n",
       " {'product': 'N06: RICE NOODLE ROLL - SWEET SAUCE',\n",
       "  'brand': '',\n",
       "  'expiry_date': '29/02/2024'},\n",
       " {'product': 'N07: RICE NOODLE ROLE + MIX SAUCE (SWEET SAUCE + CHILI SAUCE + GREEN CHILI)',\n",
       "  'brand': '',\n",
       "  'expiry_date': '29/02/2024'},\n",
       " {'product': 'N08: TOM YAM FRIED MEE HOON (VEGE)',\n",
       "  'brand': '',\n",
       "  'expiry_date': '29/02/2024'},\n",
       " {'product': 'N09: TOM YAM  FRIED MEE HOON  WITH RENDANG CHICKEN',\n",
       "  'brand': '',\n",
       "  'expiry_date': '29/02/2024'},\n",
       " {'product': 'N10: TOM YAM FRIED MEE HON WITH CURRY CHICKEN',\n",
       "  'brand': '',\n",
       "  'expiry_date': '29/02/2024'},\n",
       " {'product': 'N11: TOMYAM FRIED MEE HOON WITH CURRY POTATOES',\n",
       "  'brand': '',\n",
       "  'expiry_date': '29/02/2024'},\n",
       " {'product': 'N12 : TOM YAM FRIED MEE HOON WITH POWER 9 ( CHICKEN SPECIAL SAMBAL)',\n",
       "  'brand': '',\n",
       "  'expiry_date': '29/02/2024'},\n",
       " {'product': 'NA: MEE CELUR', 'brand': '', 'expiry_date': '29/02/2024'},\n",
       " {'product': 'NB: MEE HOON CELUR', 'brand': '', 'expiry_date': '29/02/2024'},\n",
       " {'product': 'NC: KUEY TEOW CELUR', 'brand': '', 'expiry_date': '29/02/2024'},\n",
       " {'product': 'ND: MAGGIE CELUR', 'brand': '', 'expiry_date': '29/02/2024'},\n",
       " {'product': 'R01: NASI LEMAK CLASSIC',\n",
       "  'brand': '',\n",
       "  'expiry_date': '29/02/2024'},\n",
       " {'product': 'R02: NASI LEMAK WITH CURRY POTATOES',\n",
       "  'brand': '',\n",
       "  'expiry_date': '29/02/2024'},\n",
       " {'product': 'R03: NASI LEMAK WITH RENDANG CHICKEN',\n",
       "  'brand': '',\n",
       "  'expiry_date': '29/02/2024'},\n",
       " {'product': 'R04: NASI LEMAK WITH CURRY CHICKEN',\n",
       "  'brand': '',\n",
       "  'expiry_date': '29/02/2024'},\n",
       " {'product': 'R05: NASI LEMAK POWER 9 (CHICKEN SPECIAL SAMBAL)',\n",
       "  'brand': '',\n",
       "  'expiry_date': '29/02/2024'},\n",
       " {'product': 'S01: KUIH-MUIH', 'brand': '', 'expiry_date': '29/02/2024'},\n",
       " {'product': 'S02: CUCUR SAYUR (VEGE)',\n",
       "  'brand': '',\n",
       "  'expiry_date': '29/02/2024'},\n",
       " {'product': 'S03: SALAD VEGETABLE ROLL (VEGE)',\n",
       "  'brand': '',\n",
       "  'expiry_date': '29/02/2024'},\n",
       " {'product': 'S04: FISHBALL SOUP (5PCS)',\n",
       "  'brand': '',\n",
       "  'expiry_date': '29/02/2024'},\n",
       " {'product': 'W01: CLASSIC 9 HAINANESE CHICKEN CHOP',\n",
       "  'brand': '',\n",
       "  'expiry_date': '29/02/2024'},\n",
       " {'product': 'W02: CLASSIC 9 HAINANESE CHICKEN CHOP WITH RICE',\n",
       "  'brand': '',\n",
       "  'expiry_date': '29/02/2024'}]"
      ]
     },
     "execution_count": 39,
     "metadata": {},
     "output_type": "execute_result"
    }
   ],
   "source": [
    "data_list"
   ]
  },
  {
   "cell_type": "code",
   "execution_count": 41,
   "id": "2de4b95d",
   "metadata": {},
   "outputs": [],
   "source": [
    "product_df = pd.DataFrame(data_list)"
   ]
  },
  {
   "cell_type": "code",
   "execution_count": 42,
   "id": "96504b00",
   "metadata": {},
   "outputs": [],
   "source": [
    "product_df[\"company_name\"] = company_info_dict[\"Name\"]"
   ]
  },
  {
   "cell_type": "code",
   "execution_count": 43,
   "id": "8b913f86",
   "metadata": {},
   "outputs": [
    {
     "data": {
      "text/html": [
       "<div>\n",
       "<style scoped>\n",
       "    .dataframe tbody tr th:only-of-type {\n",
       "        vertical-align: middle;\n",
       "    }\n",
       "\n",
       "    .dataframe tbody tr th {\n",
       "        vertical-align: top;\n",
       "    }\n",
       "\n",
       "    .dataframe thead th {\n",
       "        text-align: right;\n",
       "    }\n",
       "</style>\n",
       "<table border=\"1\" class=\"dataframe\">\n",
       "  <thead>\n",
       "    <tr style=\"text-align: right;\">\n",
       "      <th></th>\n",
       "      <th>product</th>\n",
       "      <th>brand</th>\n",
       "      <th>expiry_date</th>\n",
       "      <th>company_name</th>\n",
       "    </tr>\n",
       "  </thead>\n",
       "  <tbody>\n",
       "    <tr>\n",
       "      <th>0</th>\n",
       "      <td>A01: NASI LEMAK</td>\n",
       "      <td></td>\n",
       "      <td>29/02/2024</td>\n",
       "      <td>9 KOPITIAM SDN. BHD.</td>\n",
       "    </tr>\n",
       "    <tr>\n",
       "      <th>1</th>\n",
       "      <td>A02: NASI PUTIH</td>\n",
       "      <td></td>\n",
       "      <td>29/02/2024</td>\n",
       "      <td>9 KOPITIAM SDN. BHD.</td>\n",
       "    </tr>\n",
       "    <tr>\n",
       "      <th>2</th>\n",
       "      <td>A03: CURRY CHICKEN</td>\n",
       "      <td></td>\n",
       "      <td>29/02/2024</td>\n",
       "      <td>9 KOPITIAM SDN. BHD.</td>\n",
       "    </tr>\n",
       "    <tr>\n",
       "      <th>3</th>\n",
       "      <td>A04: CURRY POTATOES</td>\n",
       "      <td></td>\n",
       "      <td>29/02/2024</td>\n",
       "      <td>9 KOPITIAM SDN. BHD.</td>\n",
       "    </tr>\n",
       "    <tr>\n",
       "      <th>4</th>\n",
       "      <td>A05: RENDANG CHICKEN</td>\n",
       "      <td></td>\n",
       "      <td>29/02/2024</td>\n",
       "      <td>9 KOPITIAM SDN. BHD.</td>\n",
       "    </tr>\n",
       "    <tr>\n",
       "      <th>...</th>\n",
       "      <td>...</td>\n",
       "      <td>...</td>\n",
       "      <td>...</td>\n",
       "      <td>...</td>\n",
       "    </tr>\n",
       "    <tr>\n",
       "      <th>84</th>\n",
       "      <td>S02: CUCUR SAYUR (VEGE)</td>\n",
       "      <td></td>\n",
       "      <td>29/02/2024</td>\n",
       "      <td>9 KOPITIAM SDN. BHD.</td>\n",
       "    </tr>\n",
       "    <tr>\n",
       "      <th>85</th>\n",
       "      <td>S03: SALAD VEGETABLE ROLL (VEGE)</td>\n",
       "      <td></td>\n",
       "      <td>29/02/2024</td>\n",
       "      <td>9 KOPITIAM SDN. BHD.</td>\n",
       "    </tr>\n",
       "    <tr>\n",
       "      <th>86</th>\n",
       "      <td>S04: FISHBALL SOUP (5PCS)</td>\n",
       "      <td></td>\n",
       "      <td>29/02/2024</td>\n",
       "      <td>9 KOPITIAM SDN. BHD.</td>\n",
       "    </tr>\n",
       "    <tr>\n",
       "      <th>87</th>\n",
       "      <td>W01: CLASSIC 9 HAINANESE CHICKEN CHOP</td>\n",
       "      <td></td>\n",
       "      <td>29/02/2024</td>\n",
       "      <td>9 KOPITIAM SDN. BHD.</td>\n",
       "    </tr>\n",
       "    <tr>\n",
       "      <th>88</th>\n",
       "      <td>W02: CLASSIC 9 HAINANESE CHICKEN CHOP WITH RICE</td>\n",
       "      <td></td>\n",
       "      <td>29/02/2024</td>\n",
       "      <td>9 KOPITIAM SDN. BHD.</td>\n",
       "    </tr>\n",
       "  </tbody>\n",
       "</table>\n",
       "<p>89 rows × 4 columns</p>\n",
       "</div>"
      ],
      "text/plain": [
       "                                            product brand expiry_date  \\\n",
       "0                                   A01: NASI LEMAK        29/02/2024   \n",
       "1                                   A02: NASI PUTIH        29/02/2024   \n",
       "2                                A03: CURRY CHICKEN        29/02/2024   \n",
       "3                               A04: CURRY POTATOES        29/02/2024   \n",
       "4                              A05: RENDANG CHICKEN        29/02/2024   \n",
       "..                                              ...   ...         ...   \n",
       "84                          S02: CUCUR SAYUR (VEGE)        29/02/2024   \n",
       "85                 S03: SALAD VEGETABLE ROLL (VEGE)        29/02/2024   \n",
       "86                        S04: FISHBALL SOUP (5PCS)        29/02/2024   \n",
       "87            W01: CLASSIC 9 HAINANESE CHICKEN CHOP        29/02/2024   \n",
       "88  W02: CLASSIC 9 HAINANESE CHICKEN CHOP WITH RICE        29/02/2024   \n",
       "\n",
       "            company_name  \n",
       "0   9 KOPITIAM SDN. BHD.  \n",
       "1   9 KOPITIAM SDN. BHD.  \n",
       "2   9 KOPITIAM SDN. BHD.  \n",
       "3   9 KOPITIAM SDN. BHD.  \n",
       "4   9 KOPITIAM SDN. BHD.  \n",
       "..                   ...  \n",
       "84  9 KOPITIAM SDN. BHD.  \n",
       "85  9 KOPITIAM SDN. BHD.  \n",
       "86  9 KOPITIAM SDN. BHD.  \n",
       "87  9 KOPITIAM SDN. BHD.  \n",
       "88  9 KOPITIAM SDN. BHD.  \n",
       "\n",
       "[89 rows x 4 columns]"
      ]
     },
     "execution_count": 43,
     "metadata": {},
     "output_type": "execute_result"
    }
   ],
   "source": []
  },
  {
   "cell_type": "code",
   "execution_count": 46,
   "id": "c96eb344",
   "metadata": {},
   "outputs": [],
   "source": [
    "import re"
   ]
  },
  {
   "cell_type": "code",
   "execution_count": 54,
   "id": "74518f1e",
   "metadata": {},
   "outputs": [
    {
     "data": {
      "text/plain": [
       "'4'"
      ]
     },
     "execution_count": 54,
     "metadata": {},
     "output_type": "execute_result"
    }
   ],
   "source": [
    "re.findall(r'\\d+', \"images/4star.png\")[0]"
   ]
  },
  {
   "cell_type": "code",
   "execution_count": 48,
   "id": "9cd7b182",
   "metadata": {},
   "outputs": [
    {
     "ename": "TypeError",
     "evalue": "findall() missing 1 required positional argument: 'string'",
     "output_type": "error",
     "traceback": [
      "\u001b[0;31m---------------------------------------------------------------------------\u001b[0m",
      "\u001b[0;31mTypeError\u001b[0m                                 Traceback (most recent call last)",
      "Input \u001b[0;32mIn [48]\u001b[0m, in \u001b[0;36m<cell line: 1>\u001b[0;34m()\u001b[0m\n\u001b[0;32m----> 1\u001b[0m \u001b[43mre\u001b[49m\u001b[38;5;241;43m.\u001b[39;49m\u001b[43mfindall\u001b[49m\u001b[43m(\u001b[49m\u001b[38;5;124;43m\"\u001b[39;49m\u001b[38;5;124;43mimages/4star.png\u001b[39;49m\u001b[38;5;124;43m\"\u001b[39;49m\u001b[43m)\u001b[49m\n",
      "\u001b[0;31mTypeError\u001b[0m: findall() missing 1 required positional argument: 'string'"
     ]
    }
   ],
   "source": [
    "re.findall(\"images/4star.png\")"
   ]
  },
  {
   "cell_type": "code",
   "execution_count": 55,
   "id": "2386d604",
   "metadata": {},
   "outputs": [],
   "source": [
    "STATE_LIST = [\n",
    "    \"01\",\n",
    "    \"02\",\n",
    "    \"03\",\n",
    "    \"04\",\n",
    "    \"05\",\n",
    "    \"06\",\n",
    "    \"07\",\n",
    "    \"08\",\n",
    "    \"09\",\n",
    "    \"10\",\n",
    "    \"11\",\n",
    "    \"12\",\n",
    "    \"13\",\n",
    "    \"14\",\n",
    "    \"15\",\n",
    "    \"16\",\n",
    "]"
   ]
  },
  {
   "cell_type": "code",
   "execution_count": 60,
   "id": "e59a378f",
   "metadata": {},
   "outputs": [
    {
     "name": "stdout",
     "output_type": "stream",
     "text": [
      "13\n"
     ]
    }
   ],
   "source": [
    "for state in STATE_LIST[12:13]:\n",
    "    print(state)"
   ]
  },
  {
   "cell_type": "code",
   "execution_count": null,
   "id": "998d128c",
   "metadata": {},
   "outputs": [],
   "source": []
  }
 ],
 "metadata": {
  "kernelspec": {
   "display_name": "Python 3 (ipykernel)",
   "language": "python",
   "name": "python3"
  },
  "language_info": {
   "codemirror_mode": {
    "name": "ipython",
    "version": 3
   },
   "file_extension": ".py",
   "mimetype": "text/x-python",
   "name": "python",
   "nbconvert_exporter": "python",
   "pygments_lexer": "ipython3",
   "version": "3.10.8"
  }
 },
 "nbformat": 4,
 "nbformat_minor": 5
}
